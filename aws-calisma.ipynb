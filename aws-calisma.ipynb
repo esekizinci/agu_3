{
 "cells": [
  {
   "cell_type": "code",
   "execution_count": 10,
   "metadata": {},
   "outputs": [
    {
     "name": "stdout",
     "output_type": "stream",
     "text": [
      "1\n",
      "<class 'dict'>\n",
      "RumeliHisari_EN-US4800002879_1920x1080.jpg\n"
     ]
    }
   ],
   "source": [
    "Liste = {'Records': [{'eventVersion': '2.1', 'eventSource': 'aws:s3', 'awsRegion': 'us-east-1', 'eventTime': '2025-03-26T18:53:52.771Z', 'eventName': 'ObjectCreated:Put', 'userIdentity': {'principalId': 'AWS:AIDA2Q6Z6VLWDA4CHTDO4'}, 'requestParameters': {'sourceIPAddress': '217.122.206.23'}, 'responseElements': {'x-amz-request-id': '47JG5F00RMVM081K', 'x-amz-id-2': 'oQiBQZnZbWJUuYRcX5BrX6wWoVzwOOY7L312RtwakiLyOVr/reks9xjp/hbX4tHpryJ1nLWPQDC1y9DQ/6n47S+tnSZU9LHJ'}, 's3': {'s3SchemaVersion': '1.0', 'configurationId': '83198a48-42cb-4810-bcb1-7eeaced3830b', 'bucket': {'name': 'sekizinci.source.lambda', 'ownerIdentity': {'principalId': 'A13MFHDMBER41K'}, 'arn': 'arn:aws:s3:::sekizinci.source.lambda'}, 'object': {'key': 'RumeliHisari_EN-US4800002879_1920x1080.jpg', 'size': 343650, 'eTag': '43106ec8ac97eca650019f9262b46f2b', 'sequencer': '0067E44D40988ED1A8'}}}]}\n",
    "\n",
    "#bucket = event['Records'][0]['s3']['bucket']['name']\n",
    "key = (Liste['Records'][0]['s3']['object']['key'])\n",
    "\n",
    "print(len(Liste))\n",
    "print(type(Liste))\n",
    "print(key)"
   ]
  }
 ],
 "metadata": {
  "kernelspec": {
   "display_name": "Python 3",
   "language": "python",
   "name": "python3"
  },
  "language_info": {
   "codemirror_mode": {
    "name": "ipython",
    "version": 3
   },
   "file_extension": ".py",
   "mimetype": "text/x-python",
   "name": "python",
   "nbconvert_exporter": "python",
   "pygments_lexer": "ipython3",
   "version": "3.13.2"
  }
 },
 "nbformat": 4,
 "nbformat_minor": 2
}
