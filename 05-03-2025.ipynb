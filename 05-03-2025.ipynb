{
 "cells": [
  {
   "cell_type": "code",
   "execution_count": null,
   "metadata": {},
   "outputs": [],
   "source": [
    "try:\n",
    "  print(len(5))\n",
    "except NameError:\n",
    "  print(\"Variable is not defined\")\n",
    "except TypeError:\n",
    "  print(\"Not iterable\")"
   ]
  },
  {
   "cell_type": "code",
   "execution_count": null,
   "metadata": {},
   "outputs": [],
   "source": [
    "try:\n",
    "  print(len(3745))\n",
    "except:\n",
    "  print(\"Error\")\n",
    "finally:\n",
    "  print(\"Save\")"
   ]
  },
  {
   "cell_type": "code",
   "execution_count": null,
   "metadata": {},
   "outputs": [],
   "source": [
    "def welcome(name):\n",
    "  return \"Welcome, \" + name\n",
    "\n",
    "def kill(name):\n",
    "   return \"Defol, \" + name\n",
    "\n",
    "def process_user(name, func):\n",
    "    return func(name)\n",
    "\n",
    "print(process_user(\"Alice\", kill))"
   ]
  },
  {
   "cell_type": "code",
   "execution_count": null,
   "metadata": {},
   "outputs": [],
   "source": [
    "def welcome(name):\n",
    "  return \"Welcome, \" + name\n",
    "\n",
    "def bye(name):\n",
    "  return \"Goodbye, \" + name\n",
    "\n",
    "def process_user(name, func):\n",
    "  return func(name)\n",
    "\n",
    "print(process_user(\"Alice\", welcome))\n",
    "print(process_user(\"Bob\", bye))"
   ]
  },
  {
   "cell_type": "code",
   "execution_count": null,
   "metadata": {},
   "outputs": [],
   "source": [
    "greet = lambda name: \"Welcome, \" + name\n",
    "\n",
    "print(greet(\"Bob\"))\n",
    "\n",
    "#Lambda Function!\n"
   ]
  },
  {
   "cell_type": "code",
   "execution_count": null,
   "metadata": {},
   "outputs": [],
   "source": [
    "carp = lambda x: x * 3\n",
    "print(carp(3))"
   ]
  },
  {
   "cell_type": "code",
   "execution_count": null,
   "metadata": {},
   "outputs": [],
   "source": [
    "lambda price , count : price * count\n",
    "\n",
    "#Lambda fonksiyonlari birden fazla variable alabilirler."
   ]
  },
  {
   "cell_type": "code",
   "execution_count": null,
   "metadata": {},
   "outputs": [],
   "source": [
    "res = (lambda x, y: x + y) (2, 3)\n",
    "print(res)"
   ]
  },
  {
   "cell_type": "code",
   "execution_count": null,
   "metadata": {},
   "outputs": [],
   "source": [
    "def mult(n):\n",
    "  return lambda a : a * n\n",
    "\n",
    "doubler = mult(2)\n",
    "tripler = mult(3)\n",
    "\n",
    "print(doubler(5))\n",
    "print(tripler(5))"
   ]
  },
  {
   "cell_type": "code",
   "execution_count": null,
   "metadata": {},
   "outputs": [],
   "source": [
    "#List of names in various cases\n",
    "names = [\"alice\", \"bob\", \"CHARLIE\", \"dEborah\"]\n",
    "\n",
    "# Function to capitalize each name\n",
    "def capitalize(name):\n",
    "  return name.capitalize()\n",
    "\n",
    "# Using map() to apply the capitalization to each name\n",
    "capitalized = map(capitalize, names)\n",
    "\n",
    "# Converting map object to a list\n",
    "capitalized = list(capitalized)\n",
    "\n",
    "print(capitalized)"
   ]
  },
  {
   "cell_type": "code",
   "execution_count": null,
   "metadata": {},
   "outputs": [],
   "source": [
    "exam_scores = [85, 62, 95]\n",
    "def is_passing(score):\n",
    "  return score >= 70\n",
    "\n",
    "status = list(map(is_passing, exam_scores))\n",
    "print(status)"
   ]
  },
  {
   "cell_type": "code",
   "execution_count": null,
   "metadata": {},
   "outputs": [],
   "source": [
    "products = [\"Table\", \"Sofa\", \"Cushion\", \"Bookshelf\", \"Vase\"]\n",
    "\n",
    "# Filters products with name length equal to 4\n",
    "filtered_prod = list(filter(lambda name: len(name) == 4, products))\n",
    "\n",
    "print(filtered_prod)\n",
    "\n",
    "#Filter, icerisinde yazili olan fonksiyonu alir, value'lara intere eder ve iclerinden sadece TRUE olanlari doner!!!\n",
    "#Ornekte donulacak olan : SOFA ve VASE dir."
   ]
  },
  {
   "cell_type": "code",
   "execution_count": null,
   "metadata": {},
   "outputs": [],
   "source": [
    "products = {'Table': 110, 'Sofa': 120, 'Chair': 45, 'Lamp': 70}\n",
    "\n",
    "#filtering products with prices less than 90\n",
    "filtered_products = dict(filter(lambda item: item[1] < 90, products.items()))\n",
    "\n",
    "print(filtered_products)\n",
    "\n",
    "#[1] Bu dictionary icerisinde bulunan 1. degere bak demek, ornekteki sayilari kapsar.\n",
    "#dict(afsdfsadf) ciktiyi dictionary formatinda vericeksin seni oyle tanimliyorum demek!\n",
    "#filter (x,y) seklindeki tanimlama ise sol taraf function, sag taraf iterable tanimini kapsar!!!\n"
   ]
  },
  {
   "cell_type": "code",
   "execution_count": null,
   "metadata": {},
   "outputs": [],
   "source": [
    "def total(numbers):\n",
    "  result = 0\n",
    "  #iterating over the list\n",
    "  for i in numbers:\n",
    "    result+=i\n",
    "  return result\n",
    "\n",
    "nums = [1,2,3,4,5]\n",
    "\n",
    "print(total(nums))\n",
    "\n",
    "#Eger arguman sayisi bilinmiyorsa itere edilerek for dongulerinde sonuca ulasilir.\n"
   ]
  },
  {
   "cell_type": "code",
   "execution_count": null,
   "metadata": {},
   "outputs": [],
   "source": [
    "def show_items(category, *items):\n",
    "  print(\"Category: \\n\" + category)\n",
    "  for item in items:\n",
    "    print(item)\n",
    "\n",
    "show_items(\"Electronics\", \"Laptop\", \"Smartphone\", \"Tablet\")\n",
    "#* argumanindan once eger birden fazla tipte arguman ile calisilacaksa regular argumanlar *li argumandan once belirtilmelidir! KURAL\n"
   ]
  },
  {
   "cell_type": "code",
   "execution_count": null,
   "metadata": {},
   "outputs": [],
   "source": [
    "#**kwargs is a dictionary\n",
    "def display_info(**kwargs):\n",
    "  #kwargs.items() returns the key:valie pairs\n",
    "  for key, value in kwargs.items():\n",
    "    print(key, \":\", value)\n",
    "\n",
    "display_info(name=\"Alice\", age=30, city=\"New York\")"
   ]
  },
  {
   "cell_type": "code",
   "execution_count": null,
   "metadata": {},
   "outputs": [],
   "source": [
    "def greet():\n",
    "    return \"Welcome!\"\n",
    "\n",
    "#takes a function as an argument\n",
    "def uppercase(func):\n",
    "    #wrapper function to keep the\n",
    "    #original function code unchanged\n",
    "    def wrapper():\n",
    "        orig_message = func()\n",
    "        modified_message = orig_message.upper()\n",
    "        return modified_message\n",
    "    return wrapper\n",
    "\n",
    "greet_upper = uppercase(greet)\n",
    "print(greet_upper())\n",
    "print(greet())\n",
    "\n",
    "#orjinal mesaji ve fonksiyonu etkilemeden, sadece dekorasyon amacli islem yapip bunu cikti olarak sunar.\n"
   ]
  },
  {
   "cell_type": "code",
   "execution_count": null,
   "metadata": {},
   "outputs": [],
   "source": [
    "def stock_status_decorator(func):\n",
    "    def wrapper(item):\n",
    "        result = func(item)\n",
    "        print(result, \": stock status for\", item)\n",
    "        return result\n",
    "    return wrapper\n",
    "\n",
    "@stock_status_decorator\n",
    "def restock_item(item):\n",
    "    return \"Restocked\"\n",
    "\n",
    "@stock_status_decorator\n",
    "def sell_item(item):\n",
    "    return \"Sold\"\n",
    "\n",
    "print(restock_item(\"Laptop\"))\n",
    "print(sell_item(\"Smartphone\"))"
   ]
  },
  {
   "cell_type": "code",
   "execution_count": null,
   "metadata": {},
   "outputs": [],
   "source": [
    "class Animal:\n",
    "  def __init__(self, name):\n",
    "    self.name = name\n",
    "  \n",
    "  def move(self):\n",
    "    print(\"Moving\")\n",
    "\n",
    "# Inherits from Animal class\n",
    "class Dog(Animal):\n",
    "  # Specific behavior\n",
    "  def bark(self):\n",
    "    print(\"Woof!\")\n",
    "    \n",
    "# Creating an instance\n",
    "my_dog = Dog(\"Bob\")\n",
    "\n",
    "# Inherited attribute and behavior\n",
    "print(my_dog.name)\n",
    "my_dog.move()\n",
    "\n",
    "# Specific behavior\n",
    "my_dog.bark()"
   ]
  },
  {
   "cell_type": "code",
   "execution_count": null,
   "metadata": {},
   "outputs": [],
   "source": [
    "#method overriding yapiliyor\n",
    "# Parent class\n",
    "class Animal:\n",
    "  def __init__(self, name):\n",
    "    self.name = name\n",
    "\n",
    "  # Generic sound method for any animal\n",
    "  def sound(self):\n",
    "    print(\"Making a sound\")\n",
    "\n",
    "# Child class Dog\n",
    "class Dog(Animal):\n",
    "  def __init__(self, name, breed, age):\n",
    "    super().__init__(name)\n",
    "    self.breed = breed\n",
    "    self.age = age\n",
    "  \n",
    "  # Overridden sound method for Dog\n",
    "  def sound(self):\n",
    "    print(\"Woof!\")\n",
    "\n",
    "# Child class Cat\n",
    "class Cat(Animal):\n",
    "  def __init__(self, name, breed, age):\n",
    "    super().__init__(name)\n",
    "    self.breed = breed\n",
    "    self.age = age\n",
    "\n",
    "  # Overridden sound method for Cat\n",
    "  def sound(self):\n",
    "    print(\"Meow!\")\n",
    "\n",
    "# Creating instances\n",
    "my_dog = Dog(\"Jax\", \"Bulldog\", 5)\n",
    "my_cat = Cat(\"Lily\", \"Ragdoll\", 2)\n",
    "\n",
    "# Using overridden methods\n",
    "my_dog.sound()\n",
    "my_cat.sound()"
   ]
  },
  {
   "cell_type": "code",
   "execution_count": null,
   "metadata": {},
   "outputs": [],
   "source": [
    "#method overriding yapmiyor, yeni tanimlanan child class in sesini de ekliyor.\n",
    "# Parent class\n",
    "class Animal:\n",
    "  def __init__(self, name):\n",
    "    self.name = name\n",
    "\n",
    "  # Generic sound method for any animal\n",
    "  def sound(self):\n",
    "    print(\"Making a sound\")\n",
    "\n",
    "# Child class Dog\n",
    "class Dog(Animal):\n",
    "  def __init__(self, name, breed, age):\n",
    "    super().__init__(name)\n",
    "    self.breed = breed\n",
    "    self.age = age\n",
    "  \n",
    "  # Overridden sound method for Dog\n",
    "  def sound(self):\n",
    "    # Call the sound method from Animal\n",
    "    super().sound() # <---- Animal'dan sound'u burada cagiriyor. \n",
    "    # Additional functionality for Dog\n",
    "    print(\"Woof!\")\n",
    "\n",
    "# Creating an instance of Dog\n",
    "my_dog = Dog(\"Jax\", \"Bulldog\", 5)\n",
    "\n",
    "# Calling the overridden sound method\n",
    "my_dog.sound()"
   ]
  },
  {
   "cell_type": "code",
   "execution_count": null,
   "metadata": {},
   "outputs": [],
   "source": [
    "# Parent class\n",
    "class Animal:\n",
    "  def __init__(self, name):\n",
    "    self.name = name\n",
    "\n",
    "  # Generic sound method for any animal\n",
    "  def sound(self):\n",
    "    print(\"Making a sound\")\n",
    "\n",
    "# Child class Dog\n",
    "class Dog(Animal):\n",
    "  def __init__(self, name, breed, age):\n",
    "    super().__init__(name)\n",
    "    self.breed = breed\n",
    "    self.age = age\n",
    "  \n",
    "  # Overridden sound method for Dog\n",
    "  def sound(self):\n",
    "    print(\"Woof!\")\n",
    "\n",
    "# Child class Cat\n",
    "class Cat(Animal):\n",
    "  def __init__(self, name, breed, age):\n",
    "    super().__init__(name)\n",
    "    self.breed = breed\n",
    "    self.age = age\n",
    "\n",
    "  # Overridden sound method for Cat\n",
    "  def sound(self):\n",
    "    print(\"Meow!\")\n",
    "\n",
    "# Creating instances\n",
    "my_dog = Dog(\"Jax\", \"Bulldog\", 5)\n",
    "my_cat = Cat(\"Lily\", \"Ragdoll\", 2)\n",
    "\n",
    "animals = [my_dog, my_cat]\n",
    "\n",
    "for animal in animals:\n",
    "  animal.sound()"
   ]
  },
  {
   "cell_type": "code",
   "execution_count": null,
   "metadata": {},
   "outputs": [],
   "source": [
    "#Protected ve Private farki.\n",
    "\n",
    "class Car:\n",
    "  def __init__(self, model, year, odometer):\n",
    "    self.model = model\n",
    "    self.year = year\n",
    "    # Making the odometer attribute 'private'\n",
    "    self.__odometer = odometer  \n",
    "\n",
    "  def _describe_car(self):  # Making the describe_car method 'protected'\n",
    "    print(self.year, self.model)\n",
    "\n",
    "  def __read_odometer(self):  # Making the read_odometer method 'private'\n",
    "    print(\"Odometer:\", self.__odometer, \"miles\")\n",
    "\n",
    "\n",
    "my_car = Car('Audi', 2020, 15000)\n",
    "\n",
    "#accessing protected method\n",
    "my_car._describe_car()\n",
    "\n",
    "#error when accessing a privet method\n",
    "my_car.__read_odometer()"
   ]
  }
 ],
 "metadata": {
  "kernelspec": {
   "display_name": "Python 3",
   "language": "python",
   "name": "python3"
  },
  "language_info": {
   "codemirror_mode": {
    "name": "ipython",
    "version": 3
   },
   "file_extension": ".py",
   "mimetype": "text/x-python",
   "name": "python",
   "nbconvert_exporter": "python",
   "pygments_lexer": "ipython3",
   "version": "3.13.2"
  }
 },
 "nbformat": 4,
 "nbformat_minor": 2
}
